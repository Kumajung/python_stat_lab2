{
 "cells": [
  {
   "cell_type": "code",
   "execution_count": 1,
   "id": "ba1d7254",
   "metadata": {
    "_cell_guid": "b1076dfc-b9ad-4769-8c92-a6c4dae69d19",
    "_uuid": "8f2839f25d086af736a60e9eeb907d3b93b6e0e5",
    "execution": {
     "iopub.execute_input": "2024-11-28T09:25:20.513395Z",
     "iopub.status.busy": "2024-11-28T09:25:20.512853Z",
     "iopub.status.idle": "2024-11-28T09:25:21.511135Z",
     "shell.execute_reply": "2024-11-28T09:25:21.509778Z"
    },
    "papermill": {
     "duration": 1.007525,
     "end_time": "2024-11-28T09:25:21.513767",
     "exception": false,
     "start_time": "2024-11-28T09:25:20.506242",
     "status": "completed"
    },
    "tags": []
   },
   "outputs": [],
   "source": [
    "# This Python 3 environment comes with many helpful analytics libraries installed\n",
    "# It is defined by the kaggle/python Docker image: https://github.com/kaggle/docker-python\n",
    "# For example, here's several helpful packages to load\n",
    "\n",
    "import numpy as np # linear algebra\n",
    "import pandas as pd # data processing, CSV file I/O (e.g. pd.read_csv)\n",
    "\n",
    "# Input data files are available in the read-only \"../input/\" directory\n",
    "# For example, running this (by clicking run or pressing Shift+Enter) will list all files under the input directory\n",
    "\n",
    "import os\n",
    "for dirname, _, filenames in os.walk('/kaggle/input'):\n",
    "    for filename in filenames:\n",
    "        print(os.path.join(dirname, filename))\n",
    "\n",
    "# You can write up to 20GB to the current directory (/kaggle/working/) that gets preserved as output when you create a version using \"Save & Run All\" \n",
    "# You can also write temporary files to /kaggle/temp/, but they won't be saved outside of the current session"
   ]
  },
  {
   "cell_type": "code",
   "execution_count": 2,
   "id": "9471f415",
   "metadata": {
    "execution": {
     "iopub.execute_input": "2024-11-28T09:25:21.524334Z",
     "iopub.status.busy": "2024-11-28T09:25:21.523807Z",
     "iopub.status.idle": "2024-11-28T09:25:21.532161Z",
     "shell.execute_reply": "2024-11-28T09:25:21.530788Z"
    },
    "papermill": {
     "duration": 0.017584,
     "end_time": "2024-11-28T09:25:21.536016",
     "exception": false,
     "start_time": "2024-11-28T09:25:21.518432",
     "status": "completed"
    },
    "tags": []
   },
   "outputs": [
    {
     "name": "stdout",
     "output_type": "stream",
     "text": [
      "จำนวนรถ\tจำนวนครัวเรือน\n",
      "0\t\t2\n",
      "1\t\t6\n",
      "2\t\t3\n",
      "3\t\t2\n",
      "4\t\t2\n",
      "\n",
      "จำนวนรถทั้งหมด: 15 คัน\n"
     ]
    }
   ],
   "source": [
    "# ตัวอย่างที่ : มีการสํารวจครัวเรือน 15 ครัวเรือนว่ามีรถยนต์กี่คันในบ้าน ผลลัพธ์มีดังนี้\n",
    "# 0,1,2,3,4,0,1,1,2,2,4,3,1,1,1 ผลลัพธ์สามารถแสดงได้ด้วยภาษา python\n",
    "\n",
    "from collections import Counter\n",
    "\n",
    "# ข้อมูลจำนวนรถของแต่ละครัวเรือน\n",
    "cars = [0, 1, 2, 3, 4, 0, 1, 1, 2, 2, 4, 3, 1, 1, 1]\n",
    "\n",
    "# นับจำนวนครั้งที่แต่ละจำนวนรถปรากฏ\n",
    "car_counts = Counter(cars)\n",
    "\n",
    "# คำนวณจำนวนรถทั้งหมด\n",
    "total_cars = sum(car_counts.values())\n",
    "\n",
    "# แสดงผลลัพธ์ในรูปแบบตาราง\n",
    "print(\"จำนวนรถ\\tจำนวนครัวเรือน\")\n",
    "for num_cars, count in car_counts.items():\n",
    "    print(f\"{num_cars}\\t\\t{count}\")\n",
    "\n",
    "# แสดงผลรวมจำนวนรถทั้งหมด\n",
    "print(f\"\\nจำนวนรถทั้งหมด: {total_cars} คัน\")"
   ]
  },
  {
   "cell_type": "code",
   "execution_count": 3,
   "id": "cd5fdd32",
   "metadata": {
    "execution": {
     "iopub.execute_input": "2024-11-28T09:25:21.548204Z",
     "iopub.status.busy": "2024-11-28T09:25:21.547772Z",
     "iopub.status.idle": "2024-11-28T09:25:21.556024Z",
     "shell.execute_reply": "2024-11-28T09:25:21.554913Z"
    },
    "papermill": {
     "duration": 0.017893,
     "end_time": "2024-11-28T09:25:21.558809",
     "exception": false,
     "start_time": "2024-11-28T09:25:21.540916",
     "status": "completed"
    },
    "tags": []
   },
   "outputs": [
    {
     "name": "stdout",
     "output_type": "stream",
     "text": [
      "สี\tจำนวน\n",
      "Red\t2\n",
      "Blue\t5\n",
      "Purple\t2\n",
      "Pink\t5\n",
      "Yellow\t3\n",
      "Green\t3\n",
      "\n",
      "จำนวนสีทั้งหมด: 20 สี\n"
     ]
    }
   ],
   "source": [
    "# ข้อมูลที่ไม่ได้จัดกลุ่ม \n",
    "# ตัวอย่างที่ 1: ครูระดับ K1 ต้องการบันทึกสีโปรดของนักเรียน 20 คนในชั้นเรียนเพื่อเตรียมสื่อการสอน ผลลัพธ์มีดังนี้\n",
    "\n",
    "\"\"\"\n",
    "Red, Blue, Purple, Red, Pink, Pink, Yellow, Pink,\n",
    "Blue, Green, Blue, Pink, Purple, Green, Blue,\n",
    "Blue, Yellow, Green, Pink, Yellow \n",
    "หาผลลัพธ์สามารถแสดงความถี่สําหรับสีโปรดของนักเรียน 20 คนในชั้นเรียน K1\n",
    "\"\"\"\n",
    "\n",
    "from collections import Counter\n",
    "\n",
    "# ข้อมูลสีของนักเรียน\n",
    "colors = [\"Red\", \"Blue\", \"Purple\", \"Red\", \"Pink\", \"Pink\", \"Yellow\", \"Pink\",\n",
    "          \"Blue\", \"Green\", \"Blue\", \"Pink\", \"Purple\", \"Green\", \"Blue\",\n",
    "          \"Blue\", \"Yellow\", \"Green\", \"Pink\", \"Yellow\"]\n",
    "\n",
    "# นับจำนวนครั้งที่แต่ละสีปรากฏ\n",
    "color_counts = Counter(colors)\n",
    "\n",
    "# คำนวณจำนวนสีทั้งหมด\n",
    "total_color = sum(color_counts.values())\n",
    "\n",
    "# แสดงผลในรูปแบบตาราง\n",
    "print(\"สี\\tจำนวน\")\n",
    "for color, count in color_counts.items():\n",
    "    print(f\"{color}\\t{count}\")\n",
    "\n",
    "# แสดงผลรวมจำนวนสีทั้งหมด\n",
    "print(f\"\\nจำนวนสีทั้งหมด: {total_color} สี\")"
   ]
  },
  {
   "cell_type": "code",
   "execution_count": 4,
   "id": "06c9805f",
   "metadata": {
    "execution": {
     "iopub.execute_input": "2024-11-28T09:25:21.569031Z",
     "iopub.status.busy": "2024-11-28T09:25:21.568605Z",
     "iopub.status.idle": "2024-11-28T09:25:21.865549Z",
     "shell.execute_reply": "2024-11-28T09:25:21.864240Z"
    },
    "papermill": {
     "duration": 0.304963,
     "end_time": "2024-11-28T09:25:21.868104",
     "exception": false,
     "start_time": "2024-11-28T09:25:21.563141",
     "status": "completed"
    },
    "tags": []
   },
   "outputs": [
    {
     "data": {
      "image/png": "[encoded data removed]",
      "text/plain": [
       "<Figure size 800x600 with 1 Axes>"
      ]
     },
     "metadata": {},
     "output_type": "display_data"
    }
   ],
   "source": [
    "import matplotlib.pyplot as plt\n",
    "\n",
    "# ข้อมูลในตาราง\n",
    "times = ['75-124', '125-174', '175-224', '225-274', '275-324']\n",
    "frequencies = [11, 24, 10, 3, 2]\n",
    "\n",
    "# สร้างกราฟแท่ง\n",
    "plt.figure(figsize=(8, 6))\n",
    "plt.bar(times, frequencies, color='#5A63AE')\n",
    "\n",
    "# ปรับแต่งกราฟ\n",
    "plt.title('McDonald\\'s Lunch Drive-Through Service Times')\n",
    "plt.xlabel('Time (seconds)')\n",
    "plt.ylabel('Frequency')\n",
    "plt.xticks(rotation=45)\n",
    "\n",
    "# แสดงกราฟ\n",
    "plt.show()"
   ]
  },
  {
   "cell_type": "code",
   "execution_count": 5,
   "id": "36d178d2",
   "metadata": {
    "execution": {
     "iopub.execute_input": "2024-11-28T09:25:21.880060Z",
     "iopub.status.busy": "2024-11-28T09:25:21.879614Z",
     "iopub.status.idle": "2024-11-28T09:25:22.182623Z",
     "shell.execute_reply": "2024-11-28T09:25:22.181514Z"
    },
    "papermill": {
     "duration": 0.311726,
     "end_time": "2024-11-28T09:25:22.184859",
     "exception": false,
     "start_time": "2024-11-28T09:25:21.873133",
     "status": "completed"
    },
    "tags": []
   },
   "outputs": [
    {
     "data": {
      "image/png": "[encoded data removed]",
      "text/plain": [
       "<Figure size 800x600 with 1 Axes>"
      ]
     },
     "metadata": {},
     "output_type": "display_data"
    }
   ],
   "source": [
    "import matplotlib.pyplot as plt\n",
    "\n",
    "# ข้อมูล\n",
    "times = ['75-124', '125-174', '175-224', '225-274', '275-324']\n",
    "frequencies = [11, 24, 10, 3, 2]\n",
    "\n",
    "# คำนวณจุดกึ่งกลาง (Midpoints) ของช่วงเวลา\n",
    "midpoints = [(75 + 124) / 2, (125 + 174) / 2, (175 + 224) / 2, (225 + 274) / 2, (275 + 324) / 2]\n",
    "\n",
    "# เพิ่มจุดเริ่มต้นและจุดสิ้นสุดให้สมบูรณ์ (สำหรับเส้นปิด)\n",
    "midpoints = [75] + midpoints + [325]\n",
    "frequencies = [0] + frequencies + [0]\n",
    "\n",
    "# วาด Frequency Polygon\n",
    "plt.figure(figsize=(8, 6))\n",
    "plt.plot(midpoints, frequencies, marker='o', color='#97B24B', label='Frequency Polygon')\n",
    "plt.fill_between(midpoints, frequencies, color='#97B24B', alpha=0.2)  # เพิ่มพื้นที่ใต้กราฟเพื่อความสวยงาม\n",
    "\n",
    "# ปรับแต่งกราฟ\n",
    "plt.title('Frequency Polygon')\n",
    "plt.xlabel('Time (seconds)')\n",
    "plt.ylabel('Frequency')\n",
    "plt.xticks(midpoints, rotation=45)\n",
    "plt.legend()\n",
    "plt.grid()\n",
    "\n",
    "# แสดงกราฟ\n",
    "plt.show()"
   ]
  },
  {
   "cell_type": "code",
   "execution_count": 6,
   "id": "f0076850",
   "metadata": {
    "execution": {
     "iopub.execute_input": "2024-11-28T09:25:22.197765Z",
     "iopub.status.busy": "2024-11-28T09:25:22.197309Z",
     "iopub.status.idle": "2024-11-28T09:25:22.371056Z",
     "shell.execute_reply": "2024-11-28T09:25:22.369585Z"
    },
    "papermill": {
     "duration": 0.185113,
     "end_time": "2024-11-28T09:25:22.375712",
     "exception": false,
     "start_time": "2024-11-28T09:25:22.190599",
     "status": "completed"
    },
    "tags": []
   },
   "outputs": [
    {
     "data": {
      "image/png": "[encoded data removed]",
      "text/plain": [
       "<Figure size 640x480 with 1 Axes>"
      ]
     },
     "metadata": {},
     "output_type": "display_data"
    }
   ],
   "source": [
    "import matplotlib.pyplot as plt\n",
    "from collections import Counter\n",
    "\n",
    "# ข้อมูลสีของนักเรียน\n",
    "colors = [\"Red\", \"Blue\", \"Purple\", \"Red\", \"Pink\", \"Pink\", \"Yellow\", \"Pink\",\n",
    "          \"Blue\", \"Green\", \"Blue\", \"Pink\", \"Purple\", \"Green\", \"Blue\",\n",
    "          \"Blue\", \"Yellow\", \"Green\", \"Pink\", \"Yellow\"]\n",
    "color_counts = Counter(colors)\n",
    "\n",
    "# ตั้งค่าสี (เลือกสีตามความเหมาะสม)\n",
    "custom_colors = [\"#FF9999\", \"#D5EAFF\", \"#C09BD9\", \"#FFD5E7\", \"#FFFF99\", \"#BAE092\"]\n",
    "\n",
    "# สร้างกราฟวงกลม\n",
    "plt.pie(\n",
    "    color_counts.values(),\n",
    "    labels=color_counts.keys(),\n",
    "    autopct='%1.1f%%',\n",
    "    colors=custom_colors\n",
    ")\n",
    "plt.title(\"Students' favorite colors\")\n",
    "plt.show()"
   ]
  },
  {
   "cell_type": "markdown",
   "id": "66c38081",
   "metadata": {
    "papermill": {
     "duration": 0.015347,
     "end_time": "2024-11-28T09:25:22.407134",
     "exception": false,
     "start_time": "2024-11-28T09:25:22.391787",
     "status": "completed"
    },
    "tags": []
   },
   "source": [
    "\"\"\"\n",
    "**โจทย์ใหม่**:  \n",
    "มีการสำรวจ 20 ครัวเรือนในหมู่บ้านแห่งหนึ่งเกี่ยวกับจำนวนจักรยานที่ครัวเรือนแต่ละหลังมีอยู่ ผลลัพธ์จากการสำรวจคือ:  \n",
    "`0, 2, 1, 0, 3, 2, 1, 4, 2, 1, 1, 3, 0, 2, 1, 0, 1, 2, 3, 4`  \n",
    "\n",
    "1. เขียนโปรแกรม Python เพื่อแสดงผลดังนี้:  \n",
    "   - จำนวนจักรยานที่ครัวเรือนมี และจำนวนครัวเรือนที่มีจักรยานในแต่ละจำนวน  \n",
    "   - จำนวนครัวเรือนทั้งหมดที่ไม่มีจักรยาน  \n",
    "\n",
    "2. เพิ่มคำสั่งให้แสดงจำนวนจักรยานทั้งหมดในหมู่บ้าน\n",
    "\"\"\""
   ]
  },
  {
   "cell_type": "code",
   "execution_count": 7,
   "id": "4ada7ffc",
   "metadata": {
    "execution": {
     "iopub.execute_input": "2024-11-28T09:25:22.431072Z",
     "iopub.status.busy": "2024-11-28T09:25:22.430617Z",
     "iopub.status.idle": "2024-11-28T09:25:22.437649Z",
     "shell.execute_reply": "2024-11-28T09:25:22.436853Z"
    },
    "papermill": {
     "duration": 0.017678,
     "end_time": "2024-11-28T09:25:22.440166",
     "exception": false,
     "start_time": "2024-11-28T09:25:22.422488",
     "status": "completed"
    },
    "tags": []
   },
   "outputs": [
    {
     "name": "stdout",
     "output_type": "stream",
     "text": [
      "จำนวนจักรยาน\tจำนวนครัวเรือน\n",
      "0\t\t4\n",
      "2\t\t5\n",
      "1\t\t6\n",
      "3\t\t3\n",
      "4\t\t2\n",
      "\n",
      "จำนวนจักรยานทั้งหมด: 20 คัน\n"
     ]
    }
   ],
   "source": [
    "from collections import Counter\n",
    "\n",
    "# ข้อมูลจำนวนจักรยานของแต่ละครัวเรือน\n",
    "bicycles = [0, 2, 1, 0, 3, 2, 1, 4, 2, 1, 1, 3, 0, 2, 1, 0, 1, 2, 3, 4]\n",
    "\n",
    "# นับจำนวนครั้งที่แต่ละจำนวนจักรยานปรากฏ\n",
    "bicycles_counts = Counter(bicycles)\n",
    "\n",
    "# คำนวณจำนวนจักรยานทั้งหมด\n",
    "total_bicycles = sum(bicycles_counts.values())\n",
    "\n",
    "# แสดงผลลัพธ์ในรูปแบบตาราง\n",
    "print(\"จำนวนจักรยาน\\tจำนวนครัวเรือน\")\n",
    "for num_bicycles, count in bicycles_counts.items():\n",
    "    print(f\"{num_bicycles}\\t\\t{count}\")\n",
    "\n",
    "# แสดงผลรวมจำนวนจักรยานทั้งหมด\n",
    "print(f\"\\nจำนวนจักรยานทั้งหมด: {total_bicycles} คัน\")"
   ]
  },
  {
   "cell_type": "code",
   "execution_count": 8,
   "id": "c98d6b2d",
   "metadata": {
    "execution": {
     "iopub.execute_input": "2024-11-28T09:25:22.455673Z",
     "iopub.status.busy": "2024-11-28T09:25:22.454839Z",
     "iopub.status.idle": "2024-11-28T09:25:22.462011Z",
     "shell.execute_reply": "2024-11-28T09:25:22.460836Z"
    },
    "papermill": {
     "duration": 0.017193,
     "end_time": "2024-11-28T09:25:22.464524",
     "exception": false,
     "start_time": "2024-11-28T09:25:22.447331",
     "status": "completed"
    },
    "tags": []
   },
   "outputs": [
    {
     "name": "stdout",
     "output_type": "stream",
     "text": [
      "จำนวนพายุเฮอริเคนเฉลี่ยต่อปี: 7.71\n"
     ]
    }
   ],
   "source": [
    "# ตัวอย่างที่ 1: (พายุเฮอริเคน) ด้านล่างนี้คือจํานวนพายุเฮอริเคนแอตแลนติกที่เกิดขึ้นในแต่ละปี \n",
    "# ข้อมูลจะแสดงตามลําดับปี โดยเริ่มจากปี 2000 ค้นหาจํานวนเฉลี่ยของพายุเฮอริเคน\n",
    "\n",
    "import numpy as np\n",
    "\n",
    "hurricanes = np.array([8, 9, 8, 7, 9, 15, 5, 6, 8, 4, 12, 7, 8, 2])\n",
    "mean_hurricanes = np.mean(hurricanes)\n",
    "print(\"จำนวนพายุเฮอริเคนเฉลี่ยต่อปี:\", round(mean_hurricanes,2))"
   ]
  },
  {
   "cell_type": "code",
   "execution_count": 9,
   "id": "3fe76072",
   "metadata": {
    "execution": {
     "iopub.execute_input": "2024-11-28T09:25:22.478619Z",
     "iopub.status.busy": "2024-11-28T09:25:22.478221Z",
     "iopub.status.idle": "2024-11-28T09:25:22.485440Z",
     "shell.execute_reply": "2024-11-28T09:25:22.484350Z"
    },
    "papermill": {
     "duration": 0.017317,
     "end_time": "2024-11-28T09:25:22.488086",
     "exception": false,
     "start_time": "2024-11-28T09:25:22.470769",
     "status": "completed"
    },
    "tags": []
   },
   "outputs": [
    {
     "name": "stdout",
     "output_type": "stream",
     "text": [
      "ค่าเฉลี่ยจำนวนหนังสือที่นักเรียนอ่าน: 2.6\n"
     ]
    }
   ],
   "source": [
    "# ตัวอย่างที่ 2: มีการสํารวจนักเรียน 20 คนเพื่อพิจารณาจํานวนหนังสือที่พวกเขาอ่านในช่วง 6 เดือนที่ผ่านมา \n",
    "# ผลลัพธ์แสดงในตารางการกระจายความถี่ด้านล่าง ค้นหาจํานวนหนังสือเฉลี่ยที่นักเรียนแต่ละคนอ่าน\n",
    "\"\"\"\n",
    "Number of Books  |  Number of Students (Frequency)\n",
    "0                       1\n",
    "1                       3\n",
    "2                       5\n",
    "3                       7\n",
    "4                       2\n",
    "5                       2\n",
    "\"\"\"\n",
    "\n",
    "import numpy as np\n",
    "\n",
    "# กำหนดข้อมูลจำนวนหนังสือและจำนวนนักเรียนในรูปแบบ NumPy array\n",
    "books = np.array([0, 1, 2, 3, 4, 5])\n",
    "frequencies = np.array([1, 3, 5, 7, 2, 2])\n",
    "\n",
    "# คำนวณค่าเฉลี่ยโดยตรงโดยใช้ฟังก์ชัน mean() ของ NumPy\n",
    "mean = np.average(books, weights=frequencies)\n",
    "\n",
    "print(\"ค่าเฉลี่ยจำนวนหนังสือที่นักเรียนอ่าน:\", mean)"
   ]
  },
  {
   "cell_type": "code",
   "execution_count": 10,
   "id": "38fb8817",
   "metadata": {
    "execution": {
     "iopub.execute_input": "2024-11-28T09:25:22.502549Z",
     "iopub.status.busy": "2024-11-28T09:25:22.502183Z",
     "iopub.status.idle": "2024-11-28T09:25:22.510837Z",
     "shell.execute_reply": "2024-11-28T09:25:22.509693Z"
    },
    "papermill": {
     "duration": 0.018944,
     "end_time": "2024-11-28T09:25:22.513442",
     "exception": false,
     "start_time": "2024-11-28T09:25:22.494498",
     "status": "completed"
    },
    "tags": []
   },
   "outputs": [
    {
     "name": "stdout",
     "output_type": "stream",
     "text": [
      "ตําแหน่งสําหรับค่ามัธยฐาน:  4.0\n",
      "ค่ามัธยฐาน: 15.0\n"
     ]
    }
   ],
   "source": [
    "# ตัวอย่าง: ชุดข้อมูลที่กําหนด 13, 19, 17, 11, 15, 14, 20\n",
    "import numpy as np\n",
    "\n",
    "# ชุดข้อมูล\n",
    "data = np.array([13, 19, 17, 11, 15, 14, 20])\n",
    "\n",
    "# หาค่ามัธยฐาน\n",
    "median_value = np.median(data)\n",
    "position_value = (len(data)+1)/2\n",
    "\n",
    "print(\"ตําแหน่งสําหรับค่ามัธยฐาน: \",position_value)\n",
    "print(\"ค่ามัธยฐาน:\", median_value)"
   ]
  },
  {
   "cell_type": "code",
   "execution_count": 11,
   "id": "d58fbf48",
   "metadata": {
    "execution": {
     "iopub.execute_input": "2024-11-28T09:25:22.527767Z",
     "iopub.status.busy": "2024-11-28T09:25:22.527390Z",
     "iopub.status.idle": "2024-11-28T09:25:22.535494Z",
     "shell.execute_reply": "2024-11-28T09:25:22.534276Z"
    },
    "papermill": {
     "duration": 0.017953,
     "end_time": "2024-11-28T09:25:22.537807",
     "exception": false,
     "start_time": "2024-11-28T09:25:22.519854",
     "status": "completed"
    },
    "tags": []
   },
   "outputs": [
    {
     "name": "stdout",
     "output_type": "stream",
     "text": [
      "ข้อมูลที่เรียงลำดับแล้ว: [0.1 0.1 0.2 0.3 0.5 0.7 0.8 0.9 0.9]\n",
      "ค่าฐานนิยม: [0.1 0.9]\n"
     ]
    }
   ],
   "source": [
    "import numpy as np\n",
    "\n",
    "# กำหนดชุดข้อมูล\n",
    "data = np.array([0.2, 0.7, 0.1, 0.3, 0.5, 0.8, 0.9, 0.1, 0.9])\n",
    "\n",
    "# เรียงลำดับข้อมูล\n",
    "sorted_data = np.sort(data)\n",
    "print(\"ข้อมูลที่เรียงลำดับแล้ว:\", sorted_data)\n",
    "\n",
    "# หาค่าโมดาล (ค่าที่เกิดขึ้นบ่อยที่สุด)\n",
    "unique, counts = np.unique(data, return_counts=True)\n",
    "max_count = np.max(counts)\n",
    "modes = unique[counts == max_count]\n",
    "print(\"ค่าฐานนิยม:\", modes)"
   ]
  },
  {
   "cell_type": "code",
   "execution_count": 12,
   "id": "3eacb611",
   "metadata": {
    "execution": {
     "iopub.execute_input": "2024-11-28T09:25:22.553080Z",
     "iopub.status.busy": "2024-11-28T09:25:22.552130Z",
     "iopub.status.idle": "2024-11-28T09:25:23.782215Z",
     "shell.execute_reply": "2024-11-28T09:25:23.780959Z"
    },
    "papermill": {
     "duration": 1.240465,
     "end_time": "2024-11-28T09:25:23.784826",
     "exception": false,
     "start_time": "2024-11-28T09:25:22.544361",
     "status": "completed"
    },
    "tags": []
   },
   "outputs": [
    {
     "name": "stdout",
     "output_type": "stream",
     "text": [
      "ModeResult(mode=18, count=4)\n",
      "ฐานนิยมคือ: 18\n"
     ]
    }
   ],
   "source": [
    "# ตัวอย่าง: กําหนดตารางความถี่\n",
    "\"\"\"\n",
    "Ages   Number of Students (Frequency)\n",
    "17            1\n",
    "18            4\n",
    "19            1\n",
    "20            2\n",
    "21            1\n",
    "\"\"\"\n",
    "import numpy as np\n",
    "from scipy.stats import mode\n",
    "\n",
    "# ข้อมูลอายุ\n",
    "ages = np.array([17, 18, 18, 18, 18, 19, 20, 20, 21])\n",
    "\n",
    "# หาฐานนิยม\n",
    "mode_result = mode(ages)\n",
    "\n",
    "# ตรวจสอบผลลัพธ์และแสดงค่า\n",
    "print(mode_result)  # ลองพิมพ์ mode_result ออกมาดู\n",
    "\n",
    "# ถ้า mode_result เป็นสเกลาร์\n",
    "if np.isscalar(mode_result.mode):\n",
    "    print(f\"ฐานนิยมคือ: {mode_result.mode}\")\n",
    "else:\n",
    "    # ถ้า mode_result เป็นอาร์เรย์\n",
    "    print(f\"ฐานนิยมคือ: {mode_result.mode[0]}\")\n",
    "    print(f\"จำนวนครั้งที่เกิดขึ้น: {mode_result.count[0]}\")"
   ]
  },
  {
   "cell_type": "markdown",
   "id": "b6dc0343",
   "metadata": {
    "papermill": {
     "duration": 0.006273,
     "end_time": "2024-11-28T09:25:23.797807",
     "exception": false,
     "start_time": "2024-11-28T09:25:23.791534",
     "status": "completed"
    },
    "tags": []
   },
   "source": [
    "\"\"\"\r\n",
    "ในห้องเรียนแห่งหนึ่ง นักเรียนมีช่วงอายุที่หลากหลาย ตารางความถี่ของอายุนักเรียนในห้องเรียนนี้มีดังนี้:\r\n",
    "\r\n",
    "java\r\n",
    "Copy code\r\n",
    "Ages   Number of Students (Frequency)\r\n",
    "16            2  \r\n",
    "17            5  \r\n",
    "18            8  \r\n",
    "19            4  \r\n",
    "20            1  \r\n",
    "เขียนโปรแกรม Python เพื่อ:\r\n",
    "\r\n",
    "หาฐานนิยม (Mode,Median,Mean,Min,Max) ของอายุนักเรียนในห้องเรียน\r\n",
    "\"\"\""
   ]
  },
  {
   "cell_type": "code",
   "execution_count": 13,
   "id": "65d923e8",
   "metadata": {
    "execution": {
     "iopub.execute_input": "2024-11-28T09:25:23.813148Z",
     "iopub.status.busy": "2024-11-28T09:25:23.812548Z",
     "iopub.status.idle": "2024-11-28T09:25:23.825711Z",
     "shell.execute_reply": "2024-11-28T09:25:23.824497Z"
    },
    "papermill": {
     "duration": 0.023417,
     "end_time": "2024-11-28T09:25:23.827969",
     "exception": false,
     "start_time": "2024-11-28T09:25:23.804552",
     "status": "completed"
    },
    "tags": []
   },
   "outputs": [
    {
     "name": "stdout",
     "output_type": "stream",
     "text": [
      "ค่าเฉลี่ยของอายุนักเรียน: 17.85\n",
      "ตําแหน่งสําหรับค่ามัธยฐาน:  3.0\n",
      "ค่ามัธยฐาน: 18.0\n",
      "ข้อมูลที่เรียงลำดับแล้ว: [16 16 17 17 17 17 17 18 18 18 18 18 18 18 18 19 19 19 19 20]\n",
      "ค่าฐานนิยม: [18]\n",
      "Maxของข้อมูลชุดนี้:  20\n",
      "Minของข้อมูลชุดนี้:  16\n"
     ]
    }
   ],
   "source": [
    "import numpy as np\n",
    "\n",
    "# กำหนดข้อมูลจำนวนหนังสือและจำนวนนักเรียนในรูปแบบ NumPy array\n",
    "ages = np.array([16, 17, 18, 19, 20])\n",
    "frequencies = np.array([2, 5, 8, 4, 1])\n",
    "\n",
    "# คำนวณค่าเฉลี่ยโดยตรงโดยใช้ฟังก์ชัน mean() ของ NumPy\n",
    "mean = np.average(ages, weights=frequencies)\n",
    "\n",
    "print(\"ค่าเฉลี่ยของอายุนักเรียน:\", mean)\n",
    "\n",
    "import numpy as np\n",
    "\n",
    "# ชุดข้อมูล\n",
    "data = np.array([16, 17, 18, 19, 20])\n",
    "\n",
    "# หาค่ามัธยฐาน\n",
    "median_value = np.median(data)\n",
    "position_value = (len(data)+1)/2\n",
    "\n",
    "print(\"ตําแหน่งสําหรับค่ามัธยฐาน: \",position_value)\n",
    "print(\"ค่ามัธยฐาน:\", median_value)\n",
    "\n",
    "import numpy as np\n",
    "from scipy.stats import mode\n",
    "\n",
    "# กำหนดชุดข้อมูล\n",
    "data = np.array([16, 16, 17, 17, 17, 17, 17, 18, 18, 18, 18, 18, 18, 18, 18, 19, 19, 19, 19, 20])\n",
    "\n",
    "# เรียงลำดับข้อมูล\n",
    "sorted_data = np.sort(data)\n",
    "print(\"ข้อมูลที่เรียงลำดับแล้ว:\", sorted_data)\n",
    "\n",
    "# หาค่าโมดาล (ค่าที่เกิดขึ้นบ่อยที่สุด)\n",
    "unique, counts = np.unique(data, return_counts=True)\n",
    "max_count = np.max(counts)\n",
    "modes = unique[counts == max_count]\n",
    "print(\"ค่าฐานนิยม:\", modes)\n",
    "\n",
    "max_count = np.max(ages)\n",
    "print(\"Maxของข้อมูลชุดนี้: \",max_count)\n",
    "min_count = np.min(ages)\n",
    "print(\"Minของข้อมูลชุดนี้: \",min_count)"
   ]
  },
  {
   "cell_type": "code",
   "execution_count": null,
   "id": "03daabf8",
   "metadata": {
    "papermill": {
     "duration": 0.006616,
     "end_time": "2024-11-28T09:25:23.841259",
     "exception": false,
     "start_time": "2024-11-28T09:25:23.834643",
     "status": "completed"
    },
    "tags": []
   },
   "outputs": [],
   "source": []
  }
 ],
 "metadata": {
  "kaggle": {
   "accelerator": "none",
   "dataSources": [],
   "dockerImageVersionId": 30786,
   "isGpuEnabled": false,
   "isInternetEnabled": true,
   "language": "python",
   "sourceType": "notebook"
  },
  "kernelspec": {
   "display_name": "Python 3",
   "language": "python",
   "name": "python3"
  },
  "language_info": {
   "codemirror_mode": {
    "name": "ipython",
    "version": 3
   },
   "file_extension": ".py",
   "mimetype": "text/x-python",
   "name": "python",
   "nbconvert_exporter": "python",
   "pygments_lexer": "ipython3",
   "version": "3.10.14"
  },
  "papermill": {
   "default_parameters": {},
   "duration": 6.840418,
   "end_time": "2024-11-28T09:25:24.469044",
   "environment_variables": {},
   "exception": null,
   "input_path": "__notebook__.ipynb",
   "output_path": "__notebook__.ipynb",
   "parameters": {},
   "start_time": "2024-11-28T09:25:17.628626",
   "version": "2.6.0"
  }
 },
 "nbformat": 4,
 "nbformat_minor": 5
}
